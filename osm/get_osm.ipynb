{
 "cells": [
  {
   "cell_type": "markdown",
   "metadata": {},
   "source": [
    "# Get OSM Buildings"
   ]
  },
  {
   "cell_type": "code",
   "execution_count": 1,
   "metadata": {},
   "outputs": [
    {
     "data": {
      "application/vnd.jupyter.widget-view+json": {
       "model_id": "eeee26a2e9694c1a842f0e61e683cc14",
       "version_major": 2,
       "version_minor": 0
      },
      "text/plain": [
       "Map(center=[41.88, 12.5597], controls=(ZoomControl(options=['position', 'zoom_in_text', 'zoom_in_title', 'zoom…"
      ]
     },
     "execution_count": 1,
     "metadata": {},
     "output_type": "execute_result"
    }
   ],
   "source": [
    "import leafmap\n",
    "\n",
    "m=leafmap.Map(center=[41.88, 12.5597], zoom=13)\n",
    "m"
   ]
  },
  {
   "cell_type": "code",
   "execution_count": null,
   "metadata": {},
   "outputs": [],
   "source": [
    "import osmnx as ox\n",
    "import geopandas as gpd\n",
    "import pandas as pd\n",
    "import warnings\n",
    "import urllib3\n",
    "import numpy as np\n",
    "# Optionally, disable Warning and SSL verification\n",
    "#urllib3.disable_warnings()\n",
    "#warnings.simplefilter('ignore', FutureWarning)\n",
    "#ox.config(requests_kwargs={'verify':False})\n",
    "\n",
    "\n",
    "bbox = tuple(m.get_bbox())\n",
    "north, south, east, west = bbox[3],bbox[1],bbox[2],bbox[0]\n",
    "\n",
    "buildings = ox.features_from_bbox(bbox, tags={'building': True,\"type\":\"multipolygon\"}).reset_index()\n",
    "\n",
    "buildings"
   ]
  },
  {
   "cell_type": "markdown",
   "metadata": {},
   "source": [
    "# Get OSM Railways"
   ]
  },
  {
   "cell_type": "code",
   "execution_count": null,
   "metadata": {},
   "outputs": [],
   "source": [
    "import osmnx as ox\n",
    "import geopandas as gpd\n",
    "import glob\n",
    "import pandas as pd\n",
    "\n",
    "# Imposta il luogo di interesse (Italia)\n",
    "regions = [\n",
    "    \"Abruzzo\",\n",
    "    \"Basilicata\",\n",
    "    \"Calabria\",\n",
    "    \"Campania\",\n",
    "    \"Emilia-Romagna\",\n",
    "    \"Friuli-Venezia Giulia\",\n",
    "    \"Lazio\",\n",
    "    \"Liguria\",\n",
    "    \"Lombardia\",\n",
    "    \"Marche\",\n",
    "    \"Molise\",\n",
    "    \"Piemonte\",\n",
    "    \"Puglia\",\n",
    "    \"Sardegna\",\n",
    "    \"Sicilia\",\n",
    "    \"Toscana\",\n",
    "    \"Trentino-Alto Adige\",\n",
    "    \"Umbria\",\n",
    "    \"Valle d'Aosta\",\n",
    "    \"Veneto\"\n",
    "]\n",
    "\n",
    "# Scarica le geometrie dei ponti ferroviari\n",
    "# Filtriamo per i ponti (bridge) e i tracciati ferroviari (railway)\n",
    "tags = {\"bridge\": 'yes', \"railway\": 'rail'}\n",
    "for region in regions:\n",
    "    # Ottieni i dati\n",
    "    gdf = ox.geometries_from_place(region, tags=tags)\n",
    "\n",
    "    gdf.reset_index(inplace=True)\n",
    "    gdf = gdf[gdf['element_type']=='way']\n",
    "\n",
    "    #gdf = gpd.GeoDataFrame(geometry=gdf.geometry)\n",
    "\n",
    "    gdf.to_file(f\"{region}.geojson\", driver=\"GeoJSON\")    \n",
    "\n",
    "\n",
    "\n",
    "# Percorso ai file GeoJSON\n",
    "path = './*.geojson'  # Sostituisci con il percorso corretto\n",
    "\n",
    "# Trova tutti i file GeoJSON nella directory specificata\n",
    "geojson_files = glob.glob(path)\n",
    "\n",
    "# Inizializza una lista per i GeoDataFrame\n",
    "gdf_list = []\n",
    "\n",
    "# Carica ogni file GeoJSON e aggiungilo alla lista\n",
    "for file in geojson_files:\n",
    "    gdf = gpd.read_file(file)\n",
    "    gdf = gdf[(gdf['railway']=='rail') & (gdf['bridge']=='viaduct')]\n",
    "    gdf_list.append(gdf)\n",
    "\n",
    "# Concatenare tutti i GeoDataFrame in uno solo\n",
    "merged_gdf = gpd.GeoDataFrame(pd.concat(gdf_list, ignore_index=True))\n",
    "\n",
    "# Salva il GeoDataFrame unificato come GeoJSON\n",
    "output_file = 'Italy_railways_viaduct.geojson'  # Sostituisci con il nome del file di output\n",
    "merged_gdf.to_file(output_file, driver='GeoJSON')\n",
    "\n",
    "print(f\"GeoJSON unito salvato come: {output_file}\")\n"
   ]
  }
 ],
 "metadata": {
  "kernelspec": {
   "display_name": "Python 3",
   "language": "python",
   "name": "python3"
  },
  "language_info": {
   "codemirror_mode": {
    "name": "ipython",
    "version": 3
   },
   "file_extension": ".py",
   "mimetype": "text/x-python",
   "name": "python",
   "nbconvert_exporter": "python",
   "pygments_lexer": "ipython3",
   "version": "3.12.1"
  }
 },
 "nbformat": 4,
 "nbformat_minor": 2
}
